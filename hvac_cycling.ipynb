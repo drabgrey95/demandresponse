{
  "nbformat": 4,
  "nbformat_minor": 0,
  "metadata": {
    "colab": {
      "provenance": [],
      "authorship_tag": "ABX9TyMyV/aZ0tPJmpcNcp+o2afM",
      "include_colab_link": true
    },
    "kernelspec": {
      "name": "python3",
      "display_name": "Python 3"
    },
    "language_info": {
      "name": "python"
    }
  },
  "cells": [
    {
      "cell_type": "markdown",
      "metadata": {
        "id": "view-in-github",
        "colab_type": "text"
      },
      "source": [
        "<a href=\"https://colab.research.google.com/github/drabgrey95/demandresponse/blob/main/hvac_cycling.ipynb\" target=\"_parent\"><img src=\"https://colab.research.google.com/assets/colab-badge.svg\" alt=\"Open In Colab\"/></a>"
      ]
    },
    {
      "cell_type": "code",
      "source": [
        "#this simulation uses minute-increments for all timing, degrees are in fahrenheit"
      ],
      "metadata": {
        "id": "IjWFIVrxnGYX"
      },
      "execution_count": null,
      "outputs": []
    },
    {
      "cell_type": "markdown",
      "source": [
        "To Do:\n",
        "\n",
        "\n",
        "*2.  Incorporate windspeed + humidity*\n",
        "\n",
        "Create DR strategy class\n",
        "\n",
        "Fix 3rd stage cycling error\n",
        "\n",
        "Allow for variable temperature curves\n",
        "\n",
        "Allow for multiple zones from one RTU\n",
        "\n",
        "Add zone to zone temperature interactions in initial test\n",
        "\n",
        "\n",
        "\n",
        "\n",
        "\n",
        "\n"
      ],
      "metadata": {
        "id": "dh325PEtqsb1"
      }
    },
    {
      "cell_type": "code",
      "source": [
        "import matplotlib.pyplot as plt\n",
        "import plotly.express as px\n",
        "import pandas as pd\n",
        "import numpy as np\n",
        "import copy\n",
        "import math\n",
        "import statistics"
      ],
      "metadata": {
        "id": "MdqxVX9LXlJf"
      },
      "execution_count": 1,
      "outputs": []
    },
    {
      "cell_type": "code",
      "source": [
        "#!pip install streamlit\n",
        "import streamlit as st"
      ],
      "metadata": {
        "id": "9uwDYQXKaRSN"
      },
      "execution_count": null,
      "outputs": []
    },
    {
      "cell_type": "code",
      "execution_count": 2,
      "metadata": {
        "id": "Nja5HKEYDzxe"
      },
      "outputs": [],
      "source": [
        "class hvac:\n",
        "  def __init__(self, name, coolrate={0:0,1:-0.25,2:-0.5,3:-0.5}, heatrate={0:0,1:0.4}, ctimer=5, coolenergy={0:0,1:1,2:2,3:2}, heatenergy={0:0,1:4}):\n",
        "    self.name = name\n",
        "    self.history = {\"compressor\":[],\n",
        "                    \"heater\":[]}\n",
        "    self.ctimer = ctimer\n",
        "    self.compressor = 0 #0=off, 1=1st stage, 2=in 2nd stage min runtime, 3=2nd stage past min runtime\n",
        "    self.heater = 0 #0=off, 1=heating\n",
        "    self.coolrate = coolrate\n",
        "    self.heatrate = heatrate\n",
        "    self.coolcycle = []\n",
        "    self.heatcycle = []\n",
        "    self.coolenergy = coolenergy\n",
        "    self.heatenergy = heatenergy\n",
        "\n",
        "  def __str__(self) -> str:\n",
        "    return f\"HVAC: {self.name} => Cool Cycle:{self.coolcycle}, Heat Cycle:{self.heatcycle}\"\n",
        "\n",
        "  def record(self):\n",
        "    self.history[\"compressor\"].append(self.compressor)\n",
        "    self.history[\"heater\"].append(self.heater)\n",
        "\n",
        "  def reset(self):\n",
        "    self.history[\"compressor\"] = []\n",
        "    self.history[\"heater\"] = []\n",
        "    self.coolcycle = []\n",
        "    self.heatcycle = []\n",
        "    self.compressor = 0\n",
        "    self.heater = 0\n",
        "\n",
        "  def energyUsage(self):\n",
        "    total = 0\n",
        "    for minute in self.history[\"compressor\"]:\n",
        "      total += self.coolenergy[minute]\n",
        "    for minute in self.history[\"heater\"]:\n",
        "      total += self.heatenergy[minute]\n",
        "    return total\n",
        "\n",
        "  def DRenergy(self):\n",
        "    total = 0\n",
        "    for minute in range(60,120):\n",
        "      total += self.coolenergy[self.history[\"compressor\"][minute]]\n",
        "      total += self.heatenergy[self.history[\"heater\"][minute]]\n",
        "    return total\n",
        "\n",
        "h = hvac(\"RTU 1\")"
      ]
    },
    {
      "cell_type": "code",
      "source": [
        "class zone:\n",
        "  def __init__(self, name, sqfoot=0, temp=75.0, setpoints=[65,75], walls=(0.05,75.0,0.5), driftrate_factor=0.025) -> None:\n",
        "    self.name = name\n",
        "    self.history = []\n",
        "    self.sqfoot = sqfoot\n",
        "    self.temp = temp\n",
        "    self.setpoints = setpoints\n",
        "    self.walls = [walls[0],walls[1],walls[2]] #(rate of heat exchange between air and wall in degrees per minute, wall temperature)\n",
        "    self.wallhistory = []\n",
        "    self.driftrate_factor = driftrate_factor\n",
        "        #this is not the drift rate exactly, but it is used to calculate the driftrate in the following way: driftrate = (outside temp - inside temp)*driftrate_factor\n",
        "    self.dr = False\n",
        "\n",
        "    self.stats = {\"temp\": temp,\n",
        "                  \"setpoints\": setpoints,\n",
        "                  \"walls\": walls,\n",
        "                  }\n",
        "\n",
        "  def __str__(self) -> str:\n",
        "    return f\"Zone: {self.name}, sq footage: {self.sqfoot}, temp: {self.temp}\"\n",
        "\n",
        "  def record(self):\n",
        "    self.history.append(self.temp)\n",
        "    self.wallhistory.append(self.walls[1])\n",
        "\n",
        "  def reset(self):\n",
        "    self.history = []\n",
        "    self.wallhistory = []\n",
        "    self.temp = self.stats[\"temp\"]\n",
        "    self.setpoints = self.stats[\"setpoints\"]\n",
        "    self.walls = [self.stats[\"walls\"][0],self.stats[\"walls\"][1],self.stats[\"walls\"][2]]\n",
        "\n",
        "  def wallChange(self, prevTemp):\n",
        "    self.walls[1] = self.walls[1] - self.walls[0]*(self.walls[1]-prevTemp)\n",
        "\n",
        "z = zone(\"ZONE_NAME\")"
      ],
      "metadata": {
        "id": "lZ-fKA03dZ0T"
      },
      "execution_count": 3,
      "outputs": []
    },
    {
      "cell_type": "code",
      "source": [
        "class weather:\n",
        "  def __init__(self, name=\"weather\", temp=85.0, windspeed=0, humidity=0) -> None:\n",
        "    self.name = name\n",
        "    self.temp = temp\n",
        "    self.windspeed = windspeed\n",
        "    self.humidity = humidity\n",
        "\n",
        "  def __str__(self) -> str:\n",
        "    return f\"Temp: {self.temp}, windspeed: {self.windspeed}, humidity: {self.humidity}\"\n",
        "\n",
        "w = weather()"
      ],
      "metadata": {
        "id": "prJwMhH-iNn7"
      },
      "execution_count": 4,
      "outputs": []
    },
    {
      "cell_type": "code",
      "source": [
        "class site:\n",
        "  def __init__(self, name, weather=weather()) -> None:\n",
        "    self.name = name\n",
        "    self.system = {}\n",
        "    self.weather = weather\n",
        "\n",
        "  #def __str__(self) -> str:\n",
        "  #  return f\"Site name: {self.name} System: {self.system}\"\n",
        "\n",
        "  def add_rtu(self, rtu:hvac, zn:zone):\n",
        "    self.system[zn] = rtu\n",
        "\n",
        "#  def add_zone(self, rtu:hvac, zn:zone):\n",
        "#    try:\n",
        "#      self.system[rtu].append(zn)\n",
        "#    except:\n",
        "#      print(\"this RTU does not exist yet. Add it in using add_rtu\")\n",
        "\n",
        "  def change_weather(self, new_weather):\n",
        "    self.weather = new_weather\n",
        "\n",
        "s = site(\"SITE_NAME\")"
      ],
      "metadata": {
        "id": "BTeTAJdfeVgx"
      },
      "execution_count": 5,
      "outputs": []
    },
    {
      "cell_type": "code",
      "source": [
        "class DRprofile:\n",
        "  def __init__(self, name=\"default\", length=120, changes={0:(0,False)}):\n",
        "    self.name = name\n",
        "    self.length = length\n",
        "    self.changes = changes\n"
      ],
      "metadata": {
        "id": "r4_oib8pQEK4"
      },
      "execution_count": 6,
      "outputs": []
    },
    {
      "cell_type": "code",
      "source": [
        "default = DRprofile()\n",
        "stepup = DRprofile(\"stepup\", 120, {0:(0,False), 60:(2,False)})\n",
        "downupdown = DRprofile(\"downupdown\", 180, {0:(0,False), 60:(2,False), 120:(-2,False)})\n",
        "updownup = DRprofile(\"updownup\", 180, {0:(0,False), 60:(-2,False), 120:(2,False)})\n",
        "drdownupdown = DRprofile(\"downupdown\", 180, {0:(0,False), 60:(2,True), 120:(-2,False)})\n",
        "drupdownup = DRprofile(\"updownup\", 180, {0:(0,False), 60:(-2,True), 120:(2,False)})"
      ],
      "metadata": {
        "id": "QaKfbYE4Rh4f"
      },
      "execution_count": 7,
      "outputs": []
    },
    {
      "cell_type": "code",
      "source": [
        "def regular_setpoint_control(zone, rtu):\n",
        "  if zone.temp > zone.setpoints[1] or rtu.compressor in [1,2]:\n",
        "    if rtu.compressor == 0:\n",
        "      rtu.coolcycle = [1]*rtu.ctimer + [2]*rtu.ctimer + [3] #replace eventually with more nuanced 1st/2nd stage cycling strategy\n",
        "    rtu.compressor = rtu.coolcycle.pop(0)\n",
        "    if rtu.compressor == 3:\n",
        "      rtu.coolcycle.append(3)\n",
        "  elif rtu.compressor == 3 and zone.temp <= zone.setpoints[1]:\n",
        "    rtu.compressor = 0\n",
        "  elif zone.temp < zone.setpoints[0]: #add something to account for minimum heat cycle\n",
        "    if rtu.heater == 0:\n",
        "      rtu.heater = 1 #simple now, can replace with heatcycle\n",
        "  elif zone.temp >= zone.setpoints[0]:\n",
        "    rtu.heater = 0"
      ],
      "metadata": {
        "id": "1sm3LjeC3w1c"
      },
      "execution_count": 8,
      "outputs": []
    },
    {
      "cell_type": "code",
      "source": [
        "def dr_control(zone, rtu):\n",
        "  drcycle = []\n",
        "  wallContribution = zone.setpoints[1] - zone.walls[1] #assume walls reach temperature parity\n",
        "  tempDiff = zone.setpoints[1] - zone.temp\n",
        "  numCycles = 60/(rtu.ctimer*2) #fix so that 60 isn't default (make functiong giving length of DR event)\n",
        "  coolpercycle = (statistics.mean(rtu.coolcycle[1],rtu.coolcycle[2]))\n",
        "\n"
      ],
      "metadata": {
        "id": "NkfcEuPG4ngG"
      },
      "execution_count": null,
      "outputs": []
    },
    {
      "cell_type": "code",
      "source": [
        "def simulation(site, profile, strategy=regular_setpoint_control, energy=True, graphs=False):\n",
        "  #clear previous history\n",
        "  for zone,rtu in site.system.items():\n",
        "    zone.reset()\n",
        "    rtu.reset()\n",
        "\n",
        "  for minute in range(profile.length):\n",
        "    for zone,rtu in site.system.items():\n",
        "      #change setpoint according to schedule if required\n",
        "      if minute in profile.changes:\n",
        "        zone.setpoints = [x + profile.changes[minute][0] for x in zone.setpoints]\n",
        "        zone.dr = profile.changes[minute][1]\n",
        "      #record current temps and hvac states\n",
        "      rtu.record()\n",
        "      zone.record()\n",
        "\n",
        "      #apply cycling strategy\n",
        "      if zone.dr:\n",
        "        regular_setpoint_control(zone,rtu)\n",
        "      else:\n",
        "        strategy(zone,rtu)\n",
        "\n",
        "      #change temps\n",
        "      prevTemp = zone.temp\n",
        "      zone.temp = prevTemp + \\\n",
        "        zone.walls[0]*(zone.walls[1]-prevTemp) + \\\n",
        "        zone.driftrate_factor*(site.weather.temp - prevTemp) + \\\n",
        "        rtu.heatrate[rtu.heater] + \\\n",
        "        rtu.coolrate[rtu.compressor]\n",
        "\n",
        "      zone.wallChange(prevTemp)\n",
        "\n",
        "  if graphs:\n",
        "    for zone,rtu in site.system.items():\n",
        "      data = {\"Minute\": [x for x in range(profile.length)],\n",
        "              \"Zone Temp\": zone.history,\n",
        "              \"Wall Temp\": zone.wallhistory,\n",
        "              \"Compressor Stage\": rtu.history[\"compressor\"],\n",
        "              \"Heater Stage\": rtu.history[\"heater\"]}\n",
        "      df = pd.DataFrame(data)\n",
        "      fig1 = px.line(df, x=df['Minute'], y=df.columns[1:3])\n",
        "      fig1.show()\n",
        "      fig2 = px.bar(df, x=df['Minute'], y=df.columns[3:5])\n",
        "      fig2.show()\n",
        "\n",
        "  if energy:\n",
        "    for zone,rtu in site.system.items():\n",
        "      return (rtu.energyUsage(), rtu.DRenergy())\n",
        "\n",
        "\n",
        "\n"
      ],
      "metadata": {
        "id": "65LCcqTcRwJf"
      },
      "execution_count": 9,
      "outputs": []
    },
    {
      "cell_type": "code",
      "source": [
        "def DRcomparison(site, profile, strategy):\n",
        "  defaultTotal, defaultDR = simulation(site, default)\n",
        "  strategyTotal, strategyDR = simulation(site, profile, strategy, graphs=True)\n",
        "\n",
        "  print(\"Total Energy Usage: \" + str(strategyTotal) + \"kW   Diff from default: \" + str(strategyTotal - defaultTotal) + \"kW\")\n",
        "  print(\"DR energy: \" + str(strategyDR) + \"kW             Diff from default: \" + str(strategyDR - defaultDR) + \"kW\")\n"
      ],
      "metadata": {
        "id": "kiwJ-bjklmii"
      },
      "execution_count": 10,
      "outputs": []
    },
    {
      "cell_type": "code",
      "source": [
        "s = site(\"SITE_NAME\")\n",
        "z = zone(\"ZONE_NAME\")\n",
        "h = hvac(\"RTU 1\")\n",
        "s.add_rtu(h,z)\n",
        "w = weather()\n",
        "DRcomparison(s,downupdown, regular_setpoint_control)"
      ],
      "metadata": {
        "colab": {
          "base_uri": "https://localhost:8080/",
          "height": 1000
        },
        "id": "4J4vsyGCS8ju",
        "outputId": "db2e34c9-279a-4923-847b-ba9497f39d61"
      },
      "execution_count": 12,
      "outputs": [
        {
          "output_type": "display_data",
          "data": {
            "text/html": [
              "<html>\n",
              "<head><meta charset=\"utf-8\" /></head>\n",
              "<body>\n",
              "    <div>            <script src=\"https://cdnjs.cloudflare.com/ajax/libs/mathjax/2.7.5/MathJax.js?config=TeX-AMS-MML_SVG\"></script><script type=\"text/javascript\">if (window.MathJax && window.MathJax.Hub && window.MathJax.Hub.Config) {window.MathJax.Hub.Config({SVG: {font: \"STIX-Web\"}});}</script>                <script type=\"text/javascript\">window.PlotlyConfig = {MathJaxConfig: 'local'};</script>\n",
              "        <script src=\"https://cdn.plot.ly/plotly-2.18.2.min.js\"></script>                <div id=\"55c5c6d9-eb38-4fb8-a124-f0e475acabc0\" class=\"plotly-graph-div\" style=\"height:525px; width:100%;\"></div>            <script type=\"text/javascript\">                                    window.PLOTLYENV=window.PLOTLYENV || {};                                    if (document.getElementById(\"55c5c6d9-eb38-4fb8-a124-f0e475acabc0\")) {                    Plotly.newPlot(                        \"55c5c6d9-eb38-4fb8-a124-f0e475acabc0\",                        [{\"hovertemplate\":\"variable=Zone Temp<br>Minute=%{x}<br>value=%{y}<extra></extra>\",\"legendgroup\":\"Zone Temp\",\"line\":{\"color\":\"#636efa\",\"dash\":\"solid\"},\"marker\":{\"symbol\":\"circle\"},\"mode\":\"lines\",\"name\":\"Zone Temp\",\"orientation\":\"v\",\"showlegend\":true,\"x\":[0,1,2,3,4,5,6,7,8,9,10,11,12,13,14,15,16,17,18,19,20,21,22,23,24,25,26,27,28,29,30,31,32,33,34,35,36,37,38,39,40,41,42,43,44,45,46,47,48,49,50,51,52,53,54,55,56,57,58,59,60,61,62,63,64,65,66,67,68,69,70,71,72,73,74,75,76,77,78,79,80,81,82,83,84,85,86,87,88,89,90,91,92,93,94,95,96,97,98,99,100,101,102,103,104,105,106,107,108,109,110,111,112,113,114,115,116,117,118,119,120,121,122,123,124,125,126,127,128,129,130,131,132,133,134,135,136,137,138,139,140,141,142,143,144,145,146,147,148,149,150,151,152,153,154,155,156,157,158,159,160,161,162,163,164,165,166,167,168,169,170,171,172,173,174,175,176,177,178,179],\"xaxis\":\"x\",\"y\":[75.0,75.25,75.23125,75.21453125000001,75.19961328125001,75.18629189453125,75.17438616455078,74.91373578594971,74.67294872196808,74.44986787125171,74.24258094097243,74.049392542139,73.86879946698353,74.19946878554482,74.50271843995223,74.78156255157678,75.03867275119832,75.0264172226777,75.01564529428315,75.00618683540957,74.99789112727734,74.99062464911738,74.73426911681831,74.49746974524523,74.27810245872276,74.07428424583405,73.88434568148301,73.70680658236857,74.04035443854158,74.346325304465,74.62774936909982,74.8873125190247,75.12739558849759,75.10010913363759,75.07607424114947,75.05491857380532,75.03631227207775,75.01996310984887,74.75561220255851,74.51178020479213,74.28623269149334,74.07698889210091,73.88229277676817,73.70058743973689,74.03049240386358,74.33328351317475,74.6119376183172,74.86909335592537,75.10708970430963,75.07800014245095,75.05241291369421,75.029926588354,75.0101855375392,74.9928747098408,74.72771500368279,74.48320916740722,74.2571069169115,74.04741343626847,73.8523602570597,73.67037945845668,74.00008080935773,74.30273151707306,74.58130078531228,74.83842048062526,75.07642358804247,75.29737828143175,75.5031181086623,75.69526873463727,75.87527163472953,76.04440508639196,76.20380276705318,76.35447023127375,76.49729950900795,76.63308203923627,76.76252012879979,76.88623710461883,77.00478630829949,76.86865906513928,76.74704174448874,76.63829076508809,76.5409498559319,76.45372869696388,76.12548399554694,75.82395272093592,75.54620600065684,75.28964767951148,75.05197639100847,74.83115195396894,75.12536560107058,75.39551360234208,75.6442363964533,75.87387444929767,76.08650245004094,76.28395960762968,76.46787649245726,76.63969881717188,76.80070850568158,76.95204235960612,77.09470859615799,76.97960150019135,76.87626440547535,76.78336994572362,76.69974196293401,76.62433826556094,76.30623535290584,76.01336488150068,75.74297042483002,75.49260856914132,75.26011323238268,75.04356405200744,75.34125837763862,75.6141864575009,75.86507195440835,76.09632903113048,76.31009763331934,76.5082747489457,76.69254210307709,76.86439069450587,77.02514253437721,76.92596990589651,76.83666242780792,76.75611092209803,76.68333252656713,76.61745629182495,76.30771042076734,76.02216096322715,75.75817054985353,75.51340123694759,75.28578037496756,75.07347036918885,74.87484188866378,75.18845013024284,75.2255137892637,75.25770892824414,75.28559778261545,75.30967839403006,75.33039193178956,75.09812917933658,74.88198628102549,74.6802385835291,74.49135686536849,74.31398506374855,74.14692054124937,74.48909660273291,74.80206700585447,75.08905473783241,75.1029164195558,75.11493407264146,75.12532087356696,75.13426565678598,75.14193569101067,74.89847913888629,74.67277723616368,74.46291497235781,74.26719451998245,74.08411048043858,73.91232795268772,74.25066310280515,74.56056594921705,74.84516761094895,75.10724335752785,75.0992531762707,75.09212771347377,75.08576886705612,75.08008971679884,75.0750132492399,74.82047122797984,74.58515319281571,74.36697432301214,74.16408637044299,73.97485069404122,73.79781436922661,74.1316890216463,74.43783207455198,74.71929263456738,74.97877333448768,75.21866983112474,75.19110579901405,75.1667139336283,75.14513216916698],\"yaxis\":\"y\",\"type\":\"scatter\"},{\"hovertemplate\":\"variable=Wall Temp<br>Minute=%{x}<br>value=%{y}<extra></extra>\",\"legendgroup\":\"Wall Temp\",\"line\":{\"color\":\"#EF553B\",\"dash\":\"solid\"},\"marker\":{\"symbol\":\"circle\"},\"mode\":\"lines\",\"name\":\"Wall Temp\",\"orientation\":\"v\",\"showlegend\":true,\"x\":[0,1,2,3,4,5,6,7,8,9,10,11,12,13,14,15,16,17,18,19,20,21,22,23,24,25,26,27,28,29,30,31,32,33,34,35,36,37,38,39,40,41,42,43,44,45,46,47,48,49,50,51,52,53,54,55,56,57,58,59,60,61,62,63,64,65,66,67,68,69,70,71,72,73,74,75,76,77,78,79,80,81,82,83,84,85,86,87,88,89,90,91,92,93,94,95,96,97,98,99,100,101,102,103,104,105,106,107,108,109,110,111,112,113,114,115,116,117,118,119,120,121,122,123,124,125,126,127,128,129,130,131,132,133,134,135,136,137,138,139,140,141,142,143,144,145,146,147,148,149,150,151,152,153,154,155,156,157,158,159,160,161,162,163,164,165,166,167,168,169,170,171,172,173,174,175,176,177,178,179],\"xaxis\":\"x\",\"y\":[75.0,75.0,75.0125,75.0234375,75.0329921875,75.0413232421875,75.04857167480469,75.05486239929199,75.04780606862488,75.02906320129205,75.00010343479003,74.96222731009915,74.91658557170115,74.86419626646527,74.83095989241924,74.81454781979589,74.81289855638494,74.8241872661256,74.83429876395321,74.84336609046971,74.8515071277167,74.85882632769473,74.86541624376586,74.85885888741849,74.84078943030983,74.81265508173047,74.77573653993565,74.73116699701302,74.6799489762808,74.64796924939384,74.6328870521474,74.63263016799502,74.6453642855465,74.66946585069407,74.69099801484124,74.71025182615665,74.72748516353909,74.74292651896602,74.75677834851015,74.75672004121257,74.74447304939156,74.72156103149665,74.68933242452687,74.64898044213894,74.60156079201883,74.57300737261107,74.56102117963925,74.56356700157315,74.57884331929075,74.60525563854169,74.62889286373715,74.650068866235,74.66906175234095,74.68611794160087,74.70145578001286,74.70276874119637,74.69179076250691,74.67005657022715,74.63892441352921,74.59959620570574,74.55313536834328,74.525482640394,74.51434508422795,74.51769286928217,74.53372924984933,74.56086396675899,74.59768968249263,74.64296110380111,74.69557648534293,74.75456124281226,74.81905343499125,74.88829090159435,74.96159986807831,75.03838485012479,75.11811970958036,75.20033973054133,75.28463459924521,75.37064218469793,75.44554302872,75.51061796450843,75.56700160453741,75.61569901710713,75.65760050109996,75.68099467582232,75.688142578078,75.68104574920694,75.66147584572217,75.63100087298648,75.5910084270356,75.56772628573735,75.55911565156758,75.56337168881187,75.57889682683616,75.6042771079964,75.63826123297807,75.67974199595203,75.72773983701302,75.78138827044644,75.83992097490443,75.90266035596711,75.95650741317833,76.00249526279318,76.04153899693969,76.07444914523941,76.10194360125548,76.11215818883801,76.10721852347115,76.08900611853909,76.0591862410692,76.01923259063487,75.9704491637035,75.93898962440026,75.9227494660553,75.91986559047295,75.92868876250583,75.9477592060465,75.97578498319146,76.01162283918575,76.05426123195176,76.10280529707303,76.1439635275142,76.17859847252889,76.20747409500734,76.23126701658533,76.25057648034732,76.25343317736832,76.24186956666126,76.21768461582087,76.1824704468772,76.13763594328172,76.08442766457708,76.02394837578142,75.98217346350448,75.94434047979244,75.91000890221503,75.87878834623504,75.85033284862479,75.82433580278303,75.78802547161071,75.74272351208145,75.68959926565384,75.62968714563956,75.56390204154502,75.49305296653024,75.44285514834037,75.41081574121607,75.39472769104688,75.38013712747232,75.36687697473079,75.35479916967259,75.34377249402826,75.33368065387738,75.31192057812783,75.27996341102961,75.23911098909602,75.19051516564033,75.13519493138024,75.07405158244562,75.0328821584636,75.00926634800126,75.00106141114864,75.0063705084676,75.01101464185776,75.01507029543856,75.01860522401944,75.0216794486584,75.02434613868748,75.0141523931521,74.99270243313528,74.96141602762913,74.92154954476982,74.8742146022334,74.82039459058305,74.78595931213621,74.768552950257,74.76608993447252,74.77672410447327,74.79882139080584,74.81843561121624,74.83584952733685],\"yaxis\":\"y\",\"type\":\"scatter\"}],                        {\"template\":{\"data\":{\"histogram2dcontour\":[{\"type\":\"histogram2dcontour\",\"colorbar\":{\"outlinewidth\":0,\"ticks\":\"\"},\"colorscale\":[[0.0,\"#0d0887\"],[0.1111111111111111,\"#46039f\"],[0.2222222222222222,\"#7201a8\"],[0.3333333333333333,\"#9c179e\"],[0.4444444444444444,\"#bd3786\"],[0.5555555555555556,\"#d8576b\"],[0.6666666666666666,\"#ed7953\"],[0.7777777777777778,\"#fb9f3a\"],[0.8888888888888888,\"#fdca26\"],[1.0,\"#f0f921\"]]}],\"choropleth\":[{\"type\":\"choropleth\",\"colorbar\":{\"outlinewidth\":0,\"ticks\":\"\"}}],\"histogram2d\":[{\"type\":\"histogram2d\",\"colorbar\":{\"outlinewidth\":0,\"ticks\":\"\"},\"colorscale\":[[0.0,\"#0d0887\"],[0.1111111111111111,\"#46039f\"],[0.2222222222222222,\"#7201a8\"],[0.3333333333333333,\"#9c179e\"],[0.4444444444444444,\"#bd3786\"],[0.5555555555555556,\"#d8576b\"],[0.6666666666666666,\"#ed7953\"],[0.7777777777777778,\"#fb9f3a\"],[0.8888888888888888,\"#fdca26\"],[1.0,\"#f0f921\"]]}],\"heatmap\":[{\"type\":\"heatmap\",\"colorbar\":{\"outlinewidth\":0,\"ticks\":\"\"},\"colorscale\":[[0.0,\"#0d0887\"],[0.1111111111111111,\"#46039f\"],[0.2222222222222222,\"#7201a8\"],[0.3333333333333333,\"#9c179e\"],[0.4444444444444444,\"#bd3786\"],[0.5555555555555556,\"#d8576b\"],[0.6666666666666666,\"#ed7953\"],[0.7777777777777778,\"#fb9f3a\"],[0.8888888888888888,\"#fdca26\"],[1.0,\"#f0f921\"]]}],\"heatmapgl\":[{\"type\":\"heatmapgl\",\"colorbar\":{\"outlinewidth\":0,\"ticks\":\"\"},\"colorscale\":[[0.0,\"#0d0887\"],[0.1111111111111111,\"#46039f\"],[0.2222222222222222,\"#7201a8\"],[0.3333333333333333,\"#9c179e\"],[0.4444444444444444,\"#bd3786\"],[0.5555555555555556,\"#d8576b\"],[0.6666666666666666,\"#ed7953\"],[0.7777777777777778,\"#fb9f3a\"],[0.8888888888888888,\"#fdca26\"],[1.0,\"#f0f921\"]]}],\"contourcarpet\":[{\"type\":\"contourcarpet\",\"colorbar\":{\"outlinewidth\":0,\"ticks\":\"\"}}],\"contour\":[{\"type\":\"contour\",\"colorbar\":{\"outlinewidth\":0,\"ticks\":\"\"},\"colorscale\":[[0.0,\"#0d0887\"],[0.1111111111111111,\"#46039f\"],[0.2222222222222222,\"#7201a8\"],[0.3333333333333333,\"#9c179e\"],[0.4444444444444444,\"#bd3786\"],[0.5555555555555556,\"#d8576b\"],[0.6666666666666666,\"#ed7953\"],[0.7777777777777778,\"#fb9f3a\"],[0.8888888888888888,\"#fdca26\"],[1.0,\"#f0f921\"]]}],\"surface\":[{\"type\":\"surface\",\"colorbar\":{\"outlinewidth\":0,\"ticks\":\"\"},\"colorscale\":[[0.0,\"#0d0887\"],[0.1111111111111111,\"#46039f\"],[0.2222222222222222,\"#7201a8\"],[0.3333333333333333,\"#9c179e\"],[0.4444444444444444,\"#bd3786\"],[0.5555555555555556,\"#d8576b\"],[0.6666666666666666,\"#ed7953\"],[0.7777777777777778,\"#fb9f3a\"],[0.8888888888888888,\"#fdca26\"],[1.0,\"#f0f921\"]]}],\"mesh3d\":[{\"type\":\"mesh3d\",\"colorbar\":{\"outlinewidth\":0,\"ticks\":\"\"}}],\"scatter\":[{\"fillpattern\":{\"fillmode\":\"overlay\",\"size\":10,\"solidity\":0.2},\"type\":\"scatter\"}],\"parcoords\":[{\"type\":\"parcoords\",\"line\":{\"colorbar\":{\"outlinewidth\":0,\"ticks\":\"\"}}}],\"scatterpolargl\":[{\"type\":\"scatterpolargl\",\"marker\":{\"colorbar\":{\"outlinewidth\":0,\"ticks\":\"\"}}}],\"bar\":[{\"error_x\":{\"color\":\"#2a3f5f\"},\"error_y\":{\"color\":\"#2a3f5f\"},\"marker\":{\"line\":{\"color\":\"#E5ECF6\",\"width\":0.5},\"pattern\":{\"fillmode\":\"overlay\",\"size\":10,\"solidity\":0.2}},\"type\":\"bar\"}],\"scattergeo\":[{\"type\":\"scattergeo\",\"marker\":{\"colorbar\":{\"outlinewidth\":0,\"ticks\":\"\"}}}],\"scatterpolar\":[{\"type\":\"scatterpolar\",\"marker\":{\"colorbar\":{\"outlinewidth\":0,\"ticks\":\"\"}}}],\"histogram\":[{\"marker\":{\"pattern\":{\"fillmode\":\"overlay\",\"size\":10,\"solidity\":0.2}},\"type\":\"histogram\"}],\"scattergl\":[{\"type\":\"scattergl\",\"marker\":{\"colorbar\":{\"outlinewidth\":0,\"ticks\":\"\"}}}],\"scatter3d\":[{\"type\":\"scatter3d\",\"line\":{\"colorbar\":{\"outlinewidth\":0,\"ticks\":\"\"}},\"marker\":{\"colorbar\":{\"outlinewidth\":0,\"ticks\":\"\"}}}],\"scattermapbox\":[{\"type\":\"scattermapbox\",\"marker\":{\"colorbar\":{\"outlinewidth\":0,\"ticks\":\"\"}}}],\"scatterternary\":[{\"type\":\"scatterternary\",\"marker\":{\"colorbar\":{\"outlinewidth\":0,\"ticks\":\"\"}}}],\"scattercarpet\":[{\"type\":\"scattercarpet\",\"marker\":{\"colorbar\":{\"outlinewidth\":0,\"ticks\":\"\"}}}],\"carpet\":[{\"aaxis\":{\"endlinecolor\":\"#2a3f5f\",\"gridcolor\":\"white\",\"linecolor\":\"white\",\"minorgridcolor\":\"white\",\"startlinecolor\":\"#2a3f5f\"},\"baxis\":{\"endlinecolor\":\"#2a3f5f\",\"gridcolor\":\"white\",\"linecolor\":\"white\",\"minorgridcolor\":\"white\",\"startlinecolor\":\"#2a3f5f\"},\"type\":\"carpet\"}],\"table\":[{\"cells\":{\"fill\":{\"color\":\"#EBF0F8\"},\"line\":{\"color\":\"white\"}},\"header\":{\"fill\":{\"color\":\"#C8D4E3\"},\"line\":{\"color\":\"white\"}},\"type\":\"table\"}],\"barpolar\":[{\"marker\":{\"line\":{\"color\":\"#E5ECF6\",\"width\":0.5},\"pattern\":{\"fillmode\":\"overlay\",\"size\":10,\"solidity\":0.2}},\"type\":\"barpolar\"}],\"pie\":[{\"automargin\":true,\"type\":\"pie\"}]},\"layout\":{\"autotypenumbers\":\"strict\",\"colorway\":[\"#636efa\",\"#EF553B\",\"#00cc96\",\"#ab63fa\",\"#FFA15A\",\"#19d3f3\",\"#FF6692\",\"#B6E880\",\"#FF97FF\",\"#FECB52\"],\"font\":{\"color\":\"#2a3f5f\"},\"hovermode\":\"closest\",\"hoverlabel\":{\"align\":\"left\"},\"paper_bgcolor\":\"white\",\"plot_bgcolor\":\"#E5ECF6\",\"polar\":{\"bgcolor\":\"#E5ECF6\",\"angularaxis\":{\"gridcolor\":\"white\",\"linecolor\":\"white\",\"ticks\":\"\"},\"radialaxis\":{\"gridcolor\":\"white\",\"linecolor\":\"white\",\"ticks\":\"\"}},\"ternary\":{\"bgcolor\":\"#E5ECF6\",\"aaxis\":{\"gridcolor\":\"white\",\"linecolor\":\"white\",\"ticks\":\"\"},\"baxis\":{\"gridcolor\":\"white\",\"linecolor\":\"white\",\"ticks\":\"\"},\"caxis\":{\"gridcolor\":\"white\",\"linecolor\":\"white\",\"ticks\":\"\"}},\"coloraxis\":{\"colorbar\":{\"outlinewidth\":0,\"ticks\":\"\"}},\"colorscale\":{\"sequential\":[[0.0,\"#0d0887\"],[0.1111111111111111,\"#46039f\"],[0.2222222222222222,\"#7201a8\"],[0.3333333333333333,\"#9c179e\"],[0.4444444444444444,\"#bd3786\"],[0.5555555555555556,\"#d8576b\"],[0.6666666666666666,\"#ed7953\"],[0.7777777777777778,\"#fb9f3a\"],[0.8888888888888888,\"#fdca26\"],[1.0,\"#f0f921\"]],\"sequentialminus\":[[0.0,\"#0d0887\"],[0.1111111111111111,\"#46039f\"],[0.2222222222222222,\"#7201a8\"],[0.3333333333333333,\"#9c179e\"],[0.4444444444444444,\"#bd3786\"],[0.5555555555555556,\"#d8576b\"],[0.6666666666666666,\"#ed7953\"],[0.7777777777777778,\"#fb9f3a\"],[0.8888888888888888,\"#fdca26\"],[1.0,\"#f0f921\"]],\"diverging\":[[0,\"#8e0152\"],[0.1,\"#c51b7d\"],[0.2,\"#de77ae\"],[0.3,\"#f1b6da\"],[0.4,\"#fde0ef\"],[0.5,\"#f7f7f7\"],[0.6,\"#e6f5d0\"],[0.7,\"#b8e186\"],[0.8,\"#7fbc41\"],[0.9,\"#4d9221\"],[1,\"#276419\"]]},\"xaxis\":{\"gridcolor\":\"white\",\"linecolor\":\"white\",\"ticks\":\"\",\"title\":{\"standoff\":15},\"zerolinecolor\":\"white\",\"automargin\":true,\"zerolinewidth\":2},\"yaxis\":{\"gridcolor\":\"white\",\"linecolor\":\"white\",\"ticks\":\"\",\"title\":{\"standoff\":15},\"zerolinecolor\":\"white\",\"automargin\":true,\"zerolinewidth\":2},\"scene\":{\"xaxis\":{\"backgroundcolor\":\"#E5ECF6\",\"gridcolor\":\"white\",\"linecolor\":\"white\",\"showbackground\":true,\"ticks\":\"\",\"zerolinecolor\":\"white\",\"gridwidth\":2},\"yaxis\":{\"backgroundcolor\":\"#E5ECF6\",\"gridcolor\":\"white\",\"linecolor\":\"white\",\"showbackground\":true,\"ticks\":\"\",\"zerolinecolor\":\"white\",\"gridwidth\":2},\"zaxis\":{\"backgroundcolor\":\"#E5ECF6\",\"gridcolor\":\"white\",\"linecolor\":\"white\",\"showbackground\":true,\"ticks\":\"\",\"zerolinecolor\":\"white\",\"gridwidth\":2}},\"shapedefaults\":{\"line\":{\"color\":\"#2a3f5f\"}},\"annotationdefaults\":{\"arrowcolor\":\"#2a3f5f\",\"arrowhead\":0,\"arrowwidth\":1},\"geo\":{\"bgcolor\":\"white\",\"landcolor\":\"#E5ECF6\",\"subunitcolor\":\"white\",\"showland\":true,\"showlakes\":true,\"lakecolor\":\"white\"},\"title\":{\"x\":0.05},\"mapbox\":{\"style\":\"light\"}}},\"xaxis\":{\"anchor\":\"y\",\"domain\":[0.0,1.0],\"title\":{\"text\":\"Minute\"}},\"yaxis\":{\"anchor\":\"x\",\"domain\":[0.0,1.0],\"title\":{\"text\":\"value\"}},\"legend\":{\"title\":{\"text\":\"variable\"},\"tracegroupgap\":0},\"margin\":{\"t\":60}},                        {\"responsive\": true}                    ).then(function(){\n",
              "                            \n",
              "var gd = document.getElementById('55c5c6d9-eb38-4fb8-a124-f0e475acabc0');\n",
              "var x = new MutationObserver(function (mutations, observer) {{\n",
              "        var display = window.getComputedStyle(gd).display;\n",
              "        if (!display || display === 'none') {{\n",
              "            console.log([gd, 'removed!']);\n",
              "            Plotly.purge(gd);\n",
              "            observer.disconnect();\n",
              "        }}\n",
              "}});\n",
              "\n",
              "// Listen for the removal of the full notebook cells\n",
              "var notebookContainer = gd.closest('#notebook-container');\n",
              "if (notebookContainer) {{\n",
              "    x.observe(notebookContainer, {childList: true});\n",
              "}}\n",
              "\n",
              "// Listen for the clearing of the current output cell\n",
              "var outputEl = gd.closest('.output');\n",
              "if (outputEl) {{\n",
              "    x.observe(outputEl, {childList: true});\n",
              "}}\n",
              "\n",
              "                        })                };                            </script>        </div>\n",
              "</body>\n",
              "</html>"
            ]
          },
          "metadata": {}
        },
        {
          "output_type": "display_data",
          "data": {
            "text/html": [
              "<html>\n",
              "<head><meta charset=\"utf-8\" /></head>\n",
              "<body>\n",
              "    <div>            <script src=\"https://cdnjs.cloudflare.com/ajax/libs/mathjax/2.7.5/MathJax.js?config=TeX-AMS-MML_SVG\"></script><script type=\"text/javascript\">if (window.MathJax && window.MathJax.Hub && window.MathJax.Hub.Config) {window.MathJax.Hub.Config({SVG: {font: \"STIX-Web\"}});}</script>                <script type=\"text/javascript\">window.PlotlyConfig = {MathJaxConfig: 'local'};</script>\n",
              "        <script src=\"https://cdn.plot.ly/plotly-2.18.2.min.js\"></script>                <div id=\"9a764f5b-cd6c-459e-b4d6-11126c3556f2\" class=\"plotly-graph-div\" style=\"height:525px; width:100%;\"></div>            <script type=\"text/javascript\">                                    window.PLOTLYENV=window.PLOTLYENV || {};                                    if (document.getElementById(\"9a764f5b-cd6c-459e-b4d6-11126c3556f2\")) {                    Plotly.newPlot(                        \"9a764f5b-cd6c-459e-b4d6-11126c3556f2\",                        [{\"alignmentgroup\":\"True\",\"hovertemplate\":\"variable=Compressor Stage<br>Minute=%{x}<br>value=%{y}<extra></extra>\",\"legendgroup\":\"Compressor Stage\",\"marker\":{\"color\":\"#636efa\",\"pattern\":{\"shape\":\"\"}},\"name\":\"Compressor Stage\",\"offsetgroup\":\"Compressor Stage\",\"orientation\":\"v\",\"showlegend\":true,\"textposition\":\"auto\",\"x\":[0,1,2,3,4,5,6,7,8,9,10,11,12,13,14,15,16,17,18,19,20,21,22,23,24,25,26,27,28,29,30,31,32,33,34,35,36,37,38,39,40,41,42,43,44,45,46,47,48,49,50,51,52,53,54,55,56,57,58,59,60,61,62,63,64,65,66,67,68,69,70,71,72,73,74,75,76,77,78,79,80,81,82,83,84,85,86,87,88,89,90,91,92,93,94,95,96,97,98,99,100,101,102,103,104,105,106,107,108,109,110,111,112,113,114,115,116,117,118,119,120,121,122,123,124,125,126,127,128,129,130,131,132,133,134,135,136,137,138,139,140,141,142,143,144,145,146,147,148,149,150,151,152,153,154,155,156,157,158,159,160,161,162,163,164,165,166,167,168,169,170,171,172,173,174,175,176,177,178,179],\"xaxis\":\"x\",\"y\":[0,0,1,1,1,1,1,2,2,2,2,2,3,0,0,0,0,1,1,1,1,1,2,2,2,2,2,3,0,0,0,0,0,1,1,1,1,1,2,2,2,2,2,3,0,0,0,0,0,1,1,1,1,1,2,2,2,2,2,3,0,0,0,0,0,0,0,0,0,0,0,0,0,0,0,0,0,1,1,1,1,1,2,2,2,2,2,3,0,0,0,0,0,0,0,0,0,0,0,1,1,1,1,1,2,2,2,2,2,3,0,0,0,0,0,0,0,0,0,1,1,1,1,1,2,2,2,2,2,3,3,0,1,1,1,1,1,2,2,2,2,2,3,0,0,0,1,1,1,1,1,2,2,2,2,2,3,0,0,0,0,1,1,1,1,1,2,2,2,2,2,3,0,0,0,0,0,1,1,1],\"yaxis\":\"y\",\"type\":\"bar\"},{\"alignmentgroup\":\"True\",\"hovertemplate\":\"variable=Heater Stage<br>Minute=%{x}<br>value=%{y}<extra></extra>\",\"legendgroup\":\"Heater Stage\",\"marker\":{\"color\":\"#EF553B\",\"pattern\":{\"shape\":\"\"}},\"name\":\"Heater Stage\",\"offsetgroup\":\"Heater Stage\",\"orientation\":\"v\",\"showlegend\":true,\"textposition\":\"auto\",\"x\":[0,1,2,3,4,5,6,7,8,9,10,11,12,13,14,15,16,17,18,19,20,21,22,23,24,25,26,27,28,29,30,31,32,33,34,35,36,37,38,39,40,41,42,43,44,45,46,47,48,49,50,51,52,53,54,55,56,57,58,59,60,61,62,63,64,65,66,67,68,69,70,71,72,73,74,75,76,77,78,79,80,81,82,83,84,85,86,87,88,89,90,91,92,93,94,95,96,97,98,99,100,101,102,103,104,105,106,107,108,109,110,111,112,113,114,115,116,117,118,119,120,121,122,123,124,125,126,127,128,129,130,131,132,133,134,135,136,137,138,139,140,141,142,143,144,145,146,147,148,149,150,151,152,153,154,155,156,157,158,159,160,161,162,163,164,165,166,167,168,169,170,171,172,173,174,175,176,177,178,179],\"xaxis\":\"x\",\"y\":[0,0,0,0,0,0,0,0,0,0,0,0,0,0,0,0,0,0,0,0,0,0,0,0,0,0,0,0,0,0,0,0,0,0,0,0,0,0,0,0,0,0,0,0,0,0,0,0,0,0,0,0,0,0,0,0,0,0,0,0,0,0,0,0,0,0,0,0,0,0,0,0,0,0,0,0,0,0,0,0,0,0,0,0,0,0,0,0,0,0,0,0,0,0,0,0,0,0,0,0,0,0,0,0,0,0,0,0,0,0,0,0,0,0,0,0,0,0,0,0,0,0,0,0,0,0,0,0,0,0,0,0,0,0,0,0,0,0,0,0,0,0,0,0,0,0,0,0,0,0,0,0,0,0,0,0,0,0,0,0,0,0,0,0,0,0,0,0,0,0,0,0,0,0,0,0,0,0,0,0],\"yaxis\":\"y\",\"type\":\"bar\"}],                        {\"template\":{\"data\":{\"histogram2dcontour\":[{\"type\":\"histogram2dcontour\",\"colorbar\":{\"outlinewidth\":0,\"ticks\":\"\"},\"colorscale\":[[0.0,\"#0d0887\"],[0.1111111111111111,\"#46039f\"],[0.2222222222222222,\"#7201a8\"],[0.3333333333333333,\"#9c179e\"],[0.4444444444444444,\"#bd3786\"],[0.5555555555555556,\"#d8576b\"],[0.6666666666666666,\"#ed7953\"],[0.7777777777777778,\"#fb9f3a\"],[0.8888888888888888,\"#fdca26\"],[1.0,\"#f0f921\"]]}],\"choropleth\":[{\"type\":\"choropleth\",\"colorbar\":{\"outlinewidth\":0,\"ticks\":\"\"}}],\"histogram2d\":[{\"type\":\"histogram2d\",\"colorbar\":{\"outlinewidth\":0,\"ticks\":\"\"},\"colorscale\":[[0.0,\"#0d0887\"],[0.1111111111111111,\"#46039f\"],[0.2222222222222222,\"#7201a8\"],[0.3333333333333333,\"#9c179e\"],[0.4444444444444444,\"#bd3786\"],[0.5555555555555556,\"#d8576b\"],[0.6666666666666666,\"#ed7953\"],[0.7777777777777778,\"#fb9f3a\"],[0.8888888888888888,\"#fdca26\"],[1.0,\"#f0f921\"]]}],\"heatmap\":[{\"type\":\"heatmap\",\"colorbar\":{\"outlinewidth\":0,\"ticks\":\"\"},\"colorscale\":[[0.0,\"#0d0887\"],[0.1111111111111111,\"#46039f\"],[0.2222222222222222,\"#7201a8\"],[0.3333333333333333,\"#9c179e\"],[0.4444444444444444,\"#bd3786\"],[0.5555555555555556,\"#d8576b\"],[0.6666666666666666,\"#ed7953\"],[0.7777777777777778,\"#fb9f3a\"],[0.8888888888888888,\"#fdca26\"],[1.0,\"#f0f921\"]]}],\"heatmapgl\":[{\"type\":\"heatmapgl\",\"colorbar\":{\"outlinewidth\":0,\"ticks\":\"\"},\"colorscale\":[[0.0,\"#0d0887\"],[0.1111111111111111,\"#46039f\"],[0.2222222222222222,\"#7201a8\"],[0.3333333333333333,\"#9c179e\"],[0.4444444444444444,\"#bd3786\"],[0.5555555555555556,\"#d8576b\"],[0.6666666666666666,\"#ed7953\"],[0.7777777777777778,\"#fb9f3a\"],[0.8888888888888888,\"#fdca26\"],[1.0,\"#f0f921\"]]}],\"contourcarpet\":[{\"type\":\"contourcarpet\",\"colorbar\":{\"outlinewidth\":0,\"ticks\":\"\"}}],\"contour\":[{\"type\":\"contour\",\"colorbar\":{\"outlinewidth\":0,\"ticks\":\"\"},\"colorscale\":[[0.0,\"#0d0887\"],[0.1111111111111111,\"#46039f\"],[0.2222222222222222,\"#7201a8\"],[0.3333333333333333,\"#9c179e\"],[0.4444444444444444,\"#bd3786\"],[0.5555555555555556,\"#d8576b\"],[0.6666666666666666,\"#ed7953\"],[0.7777777777777778,\"#fb9f3a\"],[0.8888888888888888,\"#fdca26\"],[1.0,\"#f0f921\"]]}],\"surface\":[{\"type\":\"surface\",\"colorbar\":{\"outlinewidth\":0,\"ticks\":\"\"},\"colorscale\":[[0.0,\"#0d0887\"],[0.1111111111111111,\"#46039f\"],[0.2222222222222222,\"#7201a8\"],[0.3333333333333333,\"#9c179e\"],[0.4444444444444444,\"#bd3786\"],[0.5555555555555556,\"#d8576b\"],[0.6666666666666666,\"#ed7953\"],[0.7777777777777778,\"#fb9f3a\"],[0.8888888888888888,\"#fdca26\"],[1.0,\"#f0f921\"]]}],\"mesh3d\":[{\"type\":\"mesh3d\",\"colorbar\":{\"outlinewidth\":0,\"ticks\":\"\"}}],\"scatter\":[{\"fillpattern\":{\"fillmode\":\"overlay\",\"size\":10,\"solidity\":0.2},\"type\":\"scatter\"}],\"parcoords\":[{\"type\":\"parcoords\",\"line\":{\"colorbar\":{\"outlinewidth\":0,\"ticks\":\"\"}}}],\"scatterpolargl\":[{\"type\":\"scatterpolargl\",\"marker\":{\"colorbar\":{\"outlinewidth\":0,\"ticks\":\"\"}}}],\"bar\":[{\"error_x\":{\"color\":\"#2a3f5f\"},\"error_y\":{\"color\":\"#2a3f5f\"},\"marker\":{\"line\":{\"color\":\"#E5ECF6\",\"width\":0.5},\"pattern\":{\"fillmode\":\"overlay\",\"size\":10,\"solidity\":0.2}},\"type\":\"bar\"}],\"scattergeo\":[{\"type\":\"scattergeo\",\"marker\":{\"colorbar\":{\"outlinewidth\":0,\"ticks\":\"\"}}}],\"scatterpolar\":[{\"type\":\"scatterpolar\",\"marker\":{\"colorbar\":{\"outlinewidth\":0,\"ticks\":\"\"}}}],\"histogram\":[{\"marker\":{\"pattern\":{\"fillmode\":\"overlay\",\"size\":10,\"solidity\":0.2}},\"type\":\"histogram\"}],\"scattergl\":[{\"type\":\"scattergl\",\"marker\":{\"colorbar\":{\"outlinewidth\":0,\"ticks\":\"\"}}}],\"scatter3d\":[{\"type\":\"scatter3d\",\"line\":{\"colorbar\":{\"outlinewidth\":0,\"ticks\":\"\"}},\"marker\":{\"colorbar\":{\"outlinewidth\":0,\"ticks\":\"\"}}}],\"scattermapbox\":[{\"type\":\"scattermapbox\",\"marker\":{\"colorbar\":{\"outlinewidth\":0,\"ticks\":\"\"}}}],\"scatterternary\":[{\"type\":\"scatterternary\",\"marker\":{\"colorbar\":{\"outlinewidth\":0,\"ticks\":\"\"}}}],\"scattercarpet\":[{\"type\":\"scattercarpet\",\"marker\":{\"colorbar\":{\"outlinewidth\":0,\"ticks\":\"\"}}}],\"carpet\":[{\"aaxis\":{\"endlinecolor\":\"#2a3f5f\",\"gridcolor\":\"white\",\"linecolor\":\"white\",\"minorgridcolor\":\"white\",\"startlinecolor\":\"#2a3f5f\"},\"baxis\":{\"endlinecolor\":\"#2a3f5f\",\"gridcolor\":\"white\",\"linecolor\":\"white\",\"minorgridcolor\":\"white\",\"startlinecolor\":\"#2a3f5f\"},\"type\":\"carpet\"}],\"table\":[{\"cells\":{\"fill\":{\"color\":\"#EBF0F8\"},\"line\":{\"color\":\"white\"}},\"header\":{\"fill\":{\"color\":\"#C8D4E3\"},\"line\":{\"color\":\"white\"}},\"type\":\"table\"}],\"barpolar\":[{\"marker\":{\"line\":{\"color\":\"#E5ECF6\",\"width\":0.5},\"pattern\":{\"fillmode\":\"overlay\",\"size\":10,\"solidity\":0.2}},\"type\":\"barpolar\"}],\"pie\":[{\"automargin\":true,\"type\":\"pie\"}]},\"layout\":{\"autotypenumbers\":\"strict\",\"colorway\":[\"#636efa\",\"#EF553B\",\"#00cc96\",\"#ab63fa\",\"#FFA15A\",\"#19d3f3\",\"#FF6692\",\"#B6E880\",\"#FF97FF\",\"#FECB52\"],\"font\":{\"color\":\"#2a3f5f\"},\"hovermode\":\"closest\",\"hoverlabel\":{\"align\":\"left\"},\"paper_bgcolor\":\"white\",\"plot_bgcolor\":\"#E5ECF6\",\"polar\":{\"bgcolor\":\"#E5ECF6\",\"angularaxis\":{\"gridcolor\":\"white\",\"linecolor\":\"white\",\"ticks\":\"\"},\"radialaxis\":{\"gridcolor\":\"white\",\"linecolor\":\"white\",\"ticks\":\"\"}},\"ternary\":{\"bgcolor\":\"#E5ECF6\",\"aaxis\":{\"gridcolor\":\"white\",\"linecolor\":\"white\",\"ticks\":\"\"},\"baxis\":{\"gridcolor\":\"white\",\"linecolor\":\"white\",\"ticks\":\"\"},\"caxis\":{\"gridcolor\":\"white\",\"linecolor\":\"white\",\"ticks\":\"\"}},\"coloraxis\":{\"colorbar\":{\"outlinewidth\":0,\"ticks\":\"\"}},\"colorscale\":{\"sequential\":[[0.0,\"#0d0887\"],[0.1111111111111111,\"#46039f\"],[0.2222222222222222,\"#7201a8\"],[0.3333333333333333,\"#9c179e\"],[0.4444444444444444,\"#bd3786\"],[0.5555555555555556,\"#d8576b\"],[0.6666666666666666,\"#ed7953\"],[0.7777777777777778,\"#fb9f3a\"],[0.8888888888888888,\"#fdca26\"],[1.0,\"#f0f921\"]],\"sequentialminus\":[[0.0,\"#0d0887\"],[0.1111111111111111,\"#46039f\"],[0.2222222222222222,\"#7201a8\"],[0.3333333333333333,\"#9c179e\"],[0.4444444444444444,\"#bd3786\"],[0.5555555555555556,\"#d8576b\"],[0.6666666666666666,\"#ed7953\"],[0.7777777777777778,\"#fb9f3a\"],[0.8888888888888888,\"#fdca26\"],[1.0,\"#f0f921\"]],\"diverging\":[[0,\"#8e0152\"],[0.1,\"#c51b7d\"],[0.2,\"#de77ae\"],[0.3,\"#f1b6da\"],[0.4,\"#fde0ef\"],[0.5,\"#f7f7f7\"],[0.6,\"#e6f5d0\"],[0.7,\"#b8e186\"],[0.8,\"#7fbc41\"],[0.9,\"#4d9221\"],[1,\"#276419\"]]},\"xaxis\":{\"gridcolor\":\"white\",\"linecolor\":\"white\",\"ticks\":\"\",\"title\":{\"standoff\":15},\"zerolinecolor\":\"white\",\"automargin\":true,\"zerolinewidth\":2},\"yaxis\":{\"gridcolor\":\"white\",\"linecolor\":\"white\",\"ticks\":\"\",\"title\":{\"standoff\":15},\"zerolinecolor\":\"white\",\"automargin\":true,\"zerolinewidth\":2},\"scene\":{\"xaxis\":{\"backgroundcolor\":\"#E5ECF6\",\"gridcolor\":\"white\",\"linecolor\":\"white\",\"showbackground\":true,\"ticks\":\"\",\"zerolinecolor\":\"white\",\"gridwidth\":2},\"yaxis\":{\"backgroundcolor\":\"#E5ECF6\",\"gridcolor\":\"white\",\"linecolor\":\"white\",\"showbackground\":true,\"ticks\":\"\",\"zerolinecolor\":\"white\",\"gridwidth\":2},\"zaxis\":{\"backgroundcolor\":\"#E5ECF6\",\"gridcolor\":\"white\",\"linecolor\":\"white\",\"showbackground\":true,\"ticks\":\"\",\"zerolinecolor\":\"white\",\"gridwidth\":2}},\"shapedefaults\":{\"line\":{\"color\":\"#2a3f5f\"}},\"annotationdefaults\":{\"arrowcolor\":\"#2a3f5f\",\"arrowhead\":0,\"arrowwidth\":1},\"geo\":{\"bgcolor\":\"white\",\"landcolor\":\"#E5ECF6\",\"subunitcolor\":\"white\",\"showland\":true,\"showlakes\":true,\"lakecolor\":\"white\"},\"title\":{\"x\":0.05},\"mapbox\":{\"style\":\"light\"}}},\"xaxis\":{\"anchor\":\"y\",\"domain\":[0.0,1.0],\"title\":{\"text\":\"Minute\"}},\"yaxis\":{\"anchor\":\"x\",\"domain\":[0.0,1.0],\"title\":{\"text\":\"value\"}},\"legend\":{\"title\":{\"text\":\"variable\"},\"tracegroupgap\":0},\"margin\":{\"t\":60},\"barmode\":\"relative\"},                        {\"responsive\": true}                    ).then(function(){\n",
              "                            \n",
              "var gd = document.getElementById('9a764f5b-cd6c-459e-b4d6-11126c3556f2');\n",
              "var x = new MutationObserver(function (mutations, observer) {{\n",
              "        var display = window.getComputedStyle(gd).display;\n",
              "        if (!display || display === 'none') {{\n",
              "            console.log([gd, 'removed!']);\n",
              "            Plotly.purge(gd);\n",
              "            observer.disconnect();\n",
              "        }}\n",
              "}});\n",
              "\n",
              "// Listen for the removal of the full notebook cells\n",
              "var notebookContainer = gd.closest('#notebook-container');\n",
              "if (notebookContainer) {{\n",
              "    x.observe(notebookContainer, {childList: true});\n",
              "}}\n",
              "\n",
              "// Listen for the clearing of the current output cell\n",
              "var outputEl = gd.closest('.output');\n",
              "if (outputEl) {{\n",
              "    x.observe(outputEl, {childList: true});\n",
              "}}\n",
              "\n",
              "                        })                };                            </script>        </div>\n",
              "</body>\n",
              "</html>"
            ]
          },
          "metadata": {}
        },
        {
          "output_type": "stream",
          "name": "stdout",
          "text": [
            "Total Energy Usage: 175kW   Diff from default: 47kW\n",
            "DR energy: 35kW             Diff from default: -25kW\n"
          ]
        }
      ]
    }
  ]
}